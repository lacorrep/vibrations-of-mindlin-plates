{
 "cells": [
  {
   "cell_type": "markdown",
   "metadata": {},
   "source": [
    "# Eigenvalue analysis of axisymmetric Mindlin plates by the pseudospectral method\n",
    "J. Lee and W. W. Schultz 2004 [Eigenvalue analysis of Timoshenko beams and axisymmetric Mindlin plates by the pseudospectral method](https://www.sciencedirect.com/science/article/abs/pii/S0022460X03000476) (doi:10.1016/S0022-460X(03)00047-6)\n",
    "\n",
    "**Limitations**\n",
    "* The eigenvalues are found without the corresponding eigenmodes.\n",
    "* Only the frequency of axisymmetric modes can be found."
   ]
  },
  {
   "cell_type": "code",
   "execution_count": 1,
   "metadata": {},
   "outputs": [],
   "source": [
    "import numpy as np\n",
    "from numpy.polynomial import chebyshev as C # module\n",
    "# from numpy.polynomial.chebyshev import Chebyshev as T : function\n",
    "from scipy import linalg\n",
    "import matplotlib.pyplot as plt\n",
    "%matplotlib inline\n",
    "\n",
    "visual_inspection_of_matrices = True\n",
    "\n",
    "plt.rcParams['image.cmap'] = 'seismic'"
   ]
  },
  {
   "cell_type": "code",
   "execution_count": 2,
   "metadata": {},
   "outputs": [],
   "source": [
    "def one_hot(n):\n",
    "    onehot = np.zeros(n+1)\n",
    "    onehot[n] = 1\n",
    "    return onehot\n",
    "\n",
    "def chebvander_deriv(z,deg_max,m=1):\n",
    "    \"\"\"\n",
    "    [ T_0 T_1 ... T_{deg_max} ]\n",
    "    nombre de lignes : len(z)\n",
    "    nombre de colonnes : deg_max+1\n",
    "    \"\"\"\n",
    "    return np.array([ C.Chebyshev(one_hot(i)).deriv(m)(z) for i in range(deg_max+1) ]).T"
   ]
  },
  {
   "cell_type": "markdown",
   "metadata": {},
   "source": [
    "The equations of motion in terms of displacement are\n",
    "$$\\begin{array}{l}\n",
    "\\dfrac{\\partial M_{r}}{\\partial r}+\\dfrac{1}{r}\\left(M_{r}-M_{\\theta}\\right)-Q\n",
    "=\\rho I \\dfrac{\\partial^{2} \\Psi}{\\partial t^{2}} \\\\\n",
    "\\dfrac{\\partial Q}{\\partial r}+\\dfrac{1}{r} Q\n",
    "=\\rho h \\dfrac{\\partial^{2} W}{\\partial t^{2}}\n",
    "\\end{array}$$"
   ]
  },
  {
   "cell_type": "markdown",
   "metadata": {},
   "source": [
    "With normalized $z=r/R$, $\\psi(z)$ and $w(z)$ are\n",
    "$$\\begin{array}{l}\n",
    "\\dfrac{1}{R^{2}} \\psi^{\\prime \\prime}+\\dfrac{1}{z R^{2}} \\psi^{\\prime}-\\left(\\dfrac{1}{z^{2} R^{2}}+\\dfrac{\\kappa^{2} G h}{D}\\right) \\psi-\\dfrac{\\kappa^{2} G h}{R D} w^{\\prime}=-\\omega^{2} \\dfrac{\\rho I}{D} \\psi \\\\\n",
    "\\dfrac{1}{R} \\psi^{\\prime}+\\dfrac{1}{z R} \\psi+\\dfrac{1}{R^{2}} w^{\\prime \\prime}+\\dfrac{1}{z R^{2}} w^{\\prime}=-\\omega^{2} \\dfrac{\\rho}{\\kappa^{2} G} w\n",
    "\\end{array}$$"
   ]
  },
  {
   "cell_type": "markdown",
   "metadata": {},
   "source": [
    "Series expansion of the exact solutions (partial sums):\n",
    "$$\\begin{array}{l}\n",
    "\\displaystyle \\psi(z) \\approx \\tilde{\\psi}(z)=\\sum_{n=1}^{N+1} a_{n} T_{2 n-1}(z) \\\\\n",
    "\\displaystyle w(z) \\approx \\tilde{w}(z)=\\sum_{n=1}^{N+1} b_{n} T_{2 n-2}(z)\n",
    "\\end{array}\n",
    "$$\n",
    "Note: the number of collocation points is less than that of expansion terms in (Timoshenko's) by 1 because the conditions at z=0 have already been considered."
   ]
  },
  {
   "cell_type": "code",
   "execution_count": 3,
   "metadata": {},
   "outputs": [],
   "source": [
    "# Material and geometrical parameters\n",
    "E = 2.5e9 # Pa (Young's modulus)\n",
    "nu = 0.3 #- (Poisson's ratio)\n",
    "rho = 2500 # kg/m³ ≈ 2.2 kg/m² ÷ (2τ)\n",
    "R = 1.5 # m (radius)\n",
    "h = 0.25*R#10e-2 # m (plate thickness)\n",
    "G = E/2/(1+nu) # shear modulus\n",
    "D = E*h**3/12/(1-nu**2) # flexural rigidity\n",
    "I = h**3/12 # integral of y² over the thickness\n",
    "kappa = np.sqrt(np.pi**2/12) # shear correction factor\n",
    "# kappa = np.sqrt(5/6) # to retrieve the results of Narita 2022\n",
    "\n",
    "# Pick coefficients according to the problem we want to solve\n",
    "ratio_raideurs = kappa**2*G*h/D\n",
    "coeff_inertie_psi = rho*I/D\n",
    "coeff_inertie_w = rho/kappa**2/G\n",
    "CL_appui_Tp = 1\n",
    "CL_appui_T = nu\n",
    "\n",
    "# Numerical parameters\n",
    "Nz = 35 # the actual \"N\" of the paper (number of collocation points)\n",
    "Nd = 1 # extra expansion terms compared to the number of collocation points (keep it to 1!)\n",
    "Nc = Nz + Nd # total number of unknown coefficients a_i (or b_i)\n",
    "\n",
    "# ↓ Change boundary type here (\"C\" or \"S\") ↓\n",
    "boundary_condition = \"S\""
   ]
  },
  {
   "cell_type": "markdown",
   "metadata": {},
   "source": [
    "The roots of $T_n$ are $x_i = \\cos \\dfrac{\\pi(2i+1)}{2n}$.\n",
    "\n",
    "The roots of $T_{n-1}$ are $x_i = \\cos \\dfrac{\\pi(2i-1)}{2n}$.\n",
    "\n",
    "For the Mindlin plate, the collocation points are\n",
    "$$z_i = \\cos \\left( \\dfrac{\\pi ( 2 i - 1 ) }{ 4 N } \\right) \\qquad i = 1, \\dots , N$$\n",
    "(they only span half of the interval $[-1,1]$, that is, $]0,1]$)"
   ]
  },
  {
   "cell_type": "code",
   "execution_count": 4,
   "metadata": {},
   "outputs": [],
   "source": [
    "# We take less collocation points than expansion terms to allow something that looks like \"condensation\"\n",
    "z = np.cos(np.pi*(2*np.arange(1,Nz+1) - 1)/4/Nz) # C.chebpts1(2*N) where >0\n",
    "Z = z[:,np.newaxis] #np.tile(z, (Nz, 1)).T\n",
    "# C.chebvander(z, Nc) # expansion terms T_0 ... T_{N+1}"
   ]
  },
  {
   "cell_type": "code",
   "execution_count": 5,
   "metadata": {},
   "outputs": [],
   "source": [
    "# DEBUGGING\n",
    "# Check that my custom-made functions give the same result as list comprehension with chebder\n",
    "assert np.allclose( np.array([ C.Chebyshev(one_hot(i))(z) for i in range(Nc+1) ]).T , C.chebvander(z,Nc) )\n",
    "assert np.allclose( np.array([ C.Chebyshev(one_hot(i)).deriv(1)(z) for i in range(Nc+1) ]).T , chebvander_deriv(z,Nc,m=1) )\n",
    "assert np.allclose( np.array([ C.Chebyshev(one_hot(i)).deriv(2)(z) for i in range(Nc+1) ]).T , chebvander_deriv(z,Nc,m=2) )"
   ]
  },
  {
   "cell_type": "markdown",
   "metadata": {},
   "source": [
    "$$\n",
    "\\begin{gathered}\n",
    "\\sum_{n=1}^{N+1} a_{n}\\left\\{\\frac{1}{R^{2}} T_{2 n-1}^{\\prime \\prime}\\left(z_{i}\\right)+\\frac{1}{z_{i} R^{2}} T_{2 n-1}^{\\prime}\\left(z_{i}\\right)-\\left(\\frac{1}{z_{i}^{2} R^{2}}+\\frac{\\kappa^{2} G h}{D}\\right) T_{2 n-1}\\left(z_{i}\\right)\\right\\}\n",
    "-\n",
    "\\frac{\\kappa^{2} G h}{R D} \\sum_{n=1}^{N+1} b_{n} T_{2 n-2}^{\\prime}\\left(z_{i}\\right)=-\\omega^{2} \\frac{\\rho I}{D} \\sum_{n=1}^{N+1} a_{n} T_{2 n-1}\\left(z_{i}\\right)\n",
    "\\\\\n",
    "\\sum_{n=1}^{N+1} a_{n}\\left\\{\\frac{1}{R} T_{2 n-1}^{\\prime}\\left(z_{i}\\right)+\\frac{1}{z_{i} R} T_{2 n-1}\\left(z_{i}\\right)\\right\\}\n",
    "+\n",
    "\\sum_{n=1}^{N+1} b_{n}\\left\\{\\frac{1}{R^{2}} T_{2 n-2}^{\\prime \\prime}\\left(z_{i}\\right)+\\frac{1}{z_{i} R^{2}} T_{2 n-2}^{\\prime}\\left(z_{i}\\right)\\right\\}=-\\omega^{2} \\frac{\\rho}{\\kappa^{2} G} \\sum_{n=1}^{N+1} b_{n} T_{2 n-2}\\left(z_{i}\\right), \\quad i=1, \\ldots, N\n",
    "\\end{gathered}\n",
    "$$"
   ]
  },
  {
   "cell_type": "markdown",
   "metadata": {},
   "source": [
    "$$\n",
    "[\\mathbf{H}]\\{\\mathbf{d}\\}+\\left[\\mathbf{H}^{\\dagger}\\right]\\left\\{\\mathbf{d}^{\\dagger}\\right\\}=\\omega^{2}\\left([\\mathbf{S}]\\{\\mathbf{d}\\}+\\left[\\mathbf{S}^{\\dagger}\\right]\\left\\{\\mathbf{d}^{\\dagger}\\right\\}\\right)\n",
    "$$"
   ]
  },
  {
   "cell_type": "code",
   "execution_count": 6,
   "metadata": {},
   "outputs": [],
   "source": [
    "# Store Chebyshev values and derivatives\n",
    "T   = C.chebvander(z, 2*Nc)\n",
    "Tp  = chebvander_deriv(z, 2*Nc, m=1)\n",
    "Tpp = chebvander_deriv(z, 2*Nc, m=2)\n",
    "\n",
    "# Calcul de H (raideur)\n",
    "H1a = Tpp[:,1:2*Nc-1:2]/R**2 + Tp[:,1:2*Nc-1:2]/Z/R**2 - (1/Z**2/R**2 + ratio_raideurs)*T[:,1:2*Nc-1:2]\n",
    "H1b = -ratio_raideurs/R * Tp[:,0:2*Nc-2:2]\n",
    "H2a = Tp[:,1:2*Nc-1:2]/R + T[:,1:2*Nc-1:2]/Z/R\n",
    "H2b = Tpp[:,0:2*Nc-2:2]/R**2 + Tp[:,0:2*Nc-2:2]/Z/R**2\n",
    "# # Calcul de S (inertie)\n",
    "S1a = -coeff_inertie_psi * T[:,1:2*Nc-1:2]\n",
    "S1b = np.zeros((Nz,Nz))\n",
    "S2a = np.zeros((Nz,Nz))\n",
    "S2b = -coeff_inertie_w * T[:,0:2*Nc-2:2]\n",
    "\n",
    "H = np.block([[ H1a[:,:Nz] , H1b[:,:Nz] ],\n",
    "              [ H2a[:,:Nz] , H2b[:,:Nz] ]])\n",
    "# Note : H1a[:,Nz:] ne marchait pas (tableau vide)\n",
    "Hdag = np.block([[ H1a[:,-Nd:] , H1b[:,-Nd:] ],\n",
    "                 [ H2a[:,-Nd:] , H2b[:,-Nd:] ]])\n",
    "S = np.block([[ S1a[:,:Nz] , S1b[:,:Nz] ],\n",
    "              [ S2a[:,:Nz] , S2b[:,:Nz] ]])\n",
    "Sdag = np.block([[ S1a[:,-Nd:] , S1b[:,-Nd:] ],\n",
    "                 [ S2a[:,-Nd:] , S2b[:,-Nd:] ]])"
   ]
  },
  {
   "cell_type": "code",
   "execution_count": 7,
   "metadata": {},
   "outputs": [
    {
     "data": {
      "image/png": "[encoded data removed]",
      "text/plain": [
       "<Figure size 1800x288 with 3 Axes>"
      ]
     },
     "metadata": {
      "needs_background": "light"
     },
     "output_type": "display_data"
    }
   ],
   "source": [
    "if visual_inspection_of_matrices:\n",
    "    # Inspect the Chebyshev polynomials\n",
    "    # T_n(z_i)\n",
    "    plt.rcParams[\"figure.figsize\"] = [25,4]\n",
    "    fig, ax = plt.subplots(1,3)\n",
    "    ax[0].imshow(T,vmin=-1,vmax=1)\n",
    "    ax[1].imshow(Tp,vmin=-1e1,vmax=1e1)\n",
    "    ax[2].imshow(Tpp,vmin=-1e2,vmax=1e2)\n",
    "    plt.suptitle(\"$T_n$ ($z_i$ ↓ ; $n$ →)\")\n",
    "    # plt.savefig(\"Chebyshev.pdf\",transparent=True)\n",
    "    plt.show()"
   ]
  },
  {
   "cell_type": "code",
   "execution_count": 8,
   "metadata": {},
   "outputs": [
    {
     "data": {
      "image/png": "[encoded data removed]",
      "text/plain": [
       "<Figure size 720x648 with 4 Axes>"
      ]
     },
     "metadata": {
      "needs_background": "light"
     },
     "output_type": "display_data"
    }
   ],
   "source": [
    "if visual_inspection_of_matrices:\n",
    "    # Inspect H, Hdag, S, Sdag\n",
    "    plt.rcParams[\"figure.figsize\"] = [10,9]\n",
    "    fig, ax = plt.subplots(2,2)\n",
    "    ax[0,0].imshow(H, vmin=-2e2, vmax=2e2)\n",
    "    ax[0,0].set_title(\"$[H]$\")\n",
    "    ax[0,1].imshow(Hdag, vmin=-1e3, vmax=1e3)\n",
    "    ax[0,1].set_title(\"$[H^\\dag]$\")\n",
    "    ax[1,0].imshow(S, vmin=-1e-6, vmax=1e-6)\n",
    "    ax[1,0].set_title(\"$[S]$\")\n",
    "    ax[1,1].imshow(Sdag, vmin=-1e-6, vmax=1e-6)\n",
    "    ax[1,1].set_title(\"$[S^\\dag]$\")\n",
    "    plt.show()"
   ]
  },
  {
   "cell_type": "markdown",
   "metadata": {},
   "source": [
    "Boundary conditions\n",
    "$$\n",
    "[\\mathbf{U}]\\{\\mathbf{d}\\}+[\\mathbf{V}]\\left\\{\\mathbf{d}^{\\dagger}\\right\\}=\\{\\mathbf{0}\\},\n",
    "$$"
   ]
  },
  {
   "cell_type": "code",
   "execution_count": 9,
   "metadata": {},
   "outputs": [],
   "source": [
    "# Recompute Chebyshev polynomials at z=1\n",
    "# Note: Nd will always equal 1.\n",
    "T   = C.chebvander(np.ones((Nd,)), 2*Nc) # all Chebyshev polynomials equal 1 at z=1...\n",
    "Tp  = chebvander_deriv(np.ones((Nd,)), 2*Nc, m=1)\n",
    "Tpp = chebvander_deriv(np.ones((Nd,)), 2*Nc, m=2)\n",
    "\n",
    "if boundary_condition == \"C\":\n",
    "    Ua = T[:,1:2*Nc-1:2] # ψ(z=1)=0\n",
    "    Ub = T[:,0:2*Nc-2:2] # w(z=1)=0\n",
    "elif boundary_condition == \"S\":\n",
    "    Ua = CL_appui_Tp*Tp[:,1:2*Nc-1:2] + CL_appui_T*T[:,1:2*Nc-1:2] # ψ\n",
    "    Ub = T[:,0:2*Nc-2:2] # w(z=1)=0\n",
    "else:\n",
    "    raise Exception(\"Unexpected boundary type\")\n",
    "\n",
    "U = np.block([[        Ua         , np.zeros((Nd,Nz)) ],\n",
    "              [ np.zeros((Nd,Nz)) ,        Ub         ]])\n",
    "V = np.block([[    Ua[:,-Nd:]     ,  np.zeros((Nd,Nd)) ],\n",
    "              [ np.zeros((Nd,Nd)) ,   Ub[:,-Nd:]       ]])"
   ]
  },
  {
   "cell_type": "code",
   "execution_count": 10,
   "metadata": {
    "tags": []
   },
   "outputs": [
    {
     "data": {
      "image/png": "[encoded data removed]",
      "text/plain": [
       "<Figure size 576x360 with 2 Axes>"
      ]
     },
     "metadata": {
      "needs_background": "light"
     },
     "output_type": "display_data"
    }
   ],
   "source": [
    "if visual_inspection_of_matrices:\n",
    "    # Inspect U and V\n",
    "    plt.rcParams[\"figure.figsize\"] = [8,5]\n",
    "    fig, ax = plt.subplots(1,2)\n",
    "    ax[0].imshow(U, vmin=-1, vmax=1)\n",
    "    ax[0].set_title(\"$[U]$\")\n",
    "    ax[1].imshow(V, vmin=-1, vmax=1)\n",
    "    ax[1].set_title(\"$[V]$\")\n",
    "    plt.show()"
   ]
  },
  {
   "cell_type": "markdown",
   "metadata": {},
   "source": [
    "Eliminate $\\{\\mathbf{d}^{\\dagger}\\}$\n",
    "$$\n",
    "\\left\\{\\mathbf{d}^{\\dagger}\\right\\}=-[\\mathbf{V}]^{-1}[\\mathbf{U}]\\{\\mathbf{d}\\},\n",
    "$$\n",
    "\n",
    "$$\n",
    "\\left([\\mathbf{H}]-\\left[\\mathbf{H}^{\\dagger}\\right][\\mathbf{V}]^{-1}[\\mathbf{U}]\\right)\\{\\mathbf{d}\\}=\\omega^{2}\\left([\\mathbf{S}]-\\left[\\mathbf{S}^{\\dagger}\\right][\\mathbf{V}]^{-1}[\\mathbf{U}]\\right)\\{\\mathbf{d}\\}\n",
    "$$"
   ]
  },
  {
   "cell_type": "markdown",
   "metadata": {},
   "source": [
    "> Note: trying to have `Nd` > 1 will fail here for clamped boundary conditions since $[V]$ will always be singular:\n",
    "$$\n",
    "[V] =\n",
    "\\begin{bmatrix}\n",
    "1 & 1 & 0 & 0 \\\\\n",
    "1 & 1 & 0 & 0 \\\\\n",
    "0 & 0 & 1 & 1 \\\\\n",
    "0 & 0 & 1 & 1 \n",
    "\\end{bmatrix}\n",
    "$$"
   ]
  },
  {
   "cell_type": "markdown",
   "metadata": {
    "tags": []
   },
   "source": [
    "---\n",
    "# Solving"
   ]
  },
  {
   "cell_type": "code",
   "execution_count": 11,
   "metadata": {},
   "outputs": [
    {
     "name": "stdout",
     "output_type": "stream",
     "text": [
      "0.0\n"
     ]
    },
    {
     "data": {
      "image/png": "[encoded data removed]",
      "text/plain": [
       "<Figure size 576x360 with 1 Axes>"
      ]
     },
     "metadata": {
      "needs_background": "light"
     },
     "output_type": "display_data"
    }
   ],
   "source": [
    "if visual_inspection_of_matrices:\n",
    "    # Inspect [H] [V]^-1 U\n",
    "    print( np.linalg.det(Hdag @ np.linalg.inv(V) @ U) )\n",
    "    plt.imshow( Hdag @ ( np.linalg.inv(V) @ U ), vmin=-1e3,vmax=1e3 )"
   ]
  },
  {
   "cell_type": "code",
   "execution_count": 12,
   "metadata": {
    "tags": []
   },
   "outputs": [
    {
     "name": "stdout",
     "output_type": "stream",
     "text": [
      "Eigenfrequencies (S)\n",
      "Mode   1 :     237 rad/s =      38 Hz\n",
      "Mode   2 :    1173 rad/s =     187 Hz\n",
      "Mode   3 :    2359 rad/s =     375 Hz\n",
      "Mode   4 :    3611 rad/s =     575 Hz\n",
      "Mode   5 :    4873 rad/s =     775 Hz\n",
      "Mode   6 :    5461 rad/s =     869 Hz\n",
      "Mode   7 :    6128 rad/s =     975 Hz\n",
      "Mode   8 :    6640 rad/s =    1057 Hz\n",
      "Mode   9 :    7372 rad/s =    1173 Hz\n",
      "Mode  10 :    8236 rad/s =    1311 Hz\n",
      "Mode  11 :    8607 rad/s =    1370 Hz\n",
      "Mode  12 :    9832 rad/s =    1565 Hz\n",
      "Mode  13 :   10036 rad/s =    1597 Hz\n",
      "Mode  14 :   10206 rad/s =    1624 Hz\n",
      "Mode  15 :   11051 rad/s =    1759 Hz\n",
      "* Only 15 modes are displayed (55 were computed).\n"
     ]
    }
   ],
   "source": [
    "A = H - Hdag @ np.linalg.inv(V) @ U\n",
    "B = S - Sdag @ np.linalg.inv(V) @ U\n",
    "ω2 = linalg.eigvals( A , B )\n",
    "real_ω2 = ω2.real[abs(ω2.imag)<1e-5] # filter out imaginary eigvals\n",
    "ω = np.sqrt(real_ω2)\n",
    "ω.sort()\n",
    "\n",
    "show_only_N_firsts = 15\n",
    "print(f\"Eigenfrequencies ({boundary_condition})\")\n",
    "for i in range(show_only_N_firsts):\n",
    "    print(f\"Mode {i+1:3.0f} : {ω[i]:7.0f} rad/s = {ω[i]/2/np.pi:7.0f} Hz\")\n",
    "if len(ω) > show_only_N_firsts:\n",
    "    print(f\"* Only {show_only_N_firsts} modes are displayed ({len(ω)} were computed).\")"
   ]
  },
  {
   "cell_type": "markdown",
   "metadata": {},
   "source": [
    "Non-dimensionalized frequency parameter\n",
    "$$\\lambda_i^2\n",
    "= \\omega_i \\dfrac{R^2}{\\sqrt{D/\\rho h}}\n",
    "= \\omega_i R^2 \\sqrt{\\dfrac{\\rho h}{D}}$$"
   ]
  },
  {
   "cell_type": "code",
   "execution_count": 13,
   "metadata": {},
   "outputs": [
    {
     "name": "stdout",
     "output_type": "stream",
     "text": [
      "Non-dimensionalized frequency parameter λ²\n",
      "Mode   1 :    4.6963\n",
      "Mode   2 :   23.2541\n",
      "Mode   3 :   46.7745\n",
      "Mode   4 :   71.6032\n",
      "Mode   5 :   96.6090\n",
      "Mode   6 :  108.2739\n",
      "Mode   7 :  121.4989\n",
      "Mode   8 :  131.6496\n",
      "Mode   9 :  146.1721\n",
      "Mode  10 :  163.3039\n",
      "Mode  11 :  170.6466\n",
      "Mode  12 :  194.9427\n",
      "Mode  13 :  198.9838\n",
      "Mode  14 :  202.3659\n",
      "Mode  15 :  219.1061\n",
      "* Only 15 modes are displayed (55 were computed).\n"
     ]
    }
   ],
   "source": [
    "# Non-dimensionalized frequency parameter\n",
    "λi2 = ω*R**2*np.sqrt(rho*h/D)\n",
    "λi2.sort()\n",
    "\n",
    "print(\"Non-dimensionalized frequency parameter λ²\")\n",
    "for i in range(show_only_N_firsts):\n",
    "    print(f\"Mode {i+1:3.0f} : {λi2[i]:9.4f}\")\n",
    "if len(λi2) > show_only_N_firsts:\n",
    "    print(f\"* Only {show_only_N_firsts} modes are displayed ({len(λi2)} were computed).\")"
   ]
  },
  {
   "cell_type": "code",
   "execution_count": 14,
   "metadata": {},
   "outputs": [
    {
     "data": {
      "image/png": "[encoded data removed]",
      "text/plain": [
       "<Figure size 576x360 with 1 Axes>"
      ]
     },
     "metadata": {
      "needs_background": "light"
     },
     "output_type": "display_data"
    }
   ],
   "source": [
    "plt.plot(ω, \".-\")\n",
    "plt.title(\"ω\")\n",
    "plt.xlabel(\"Mode\");"
   ]
  },
  {
   "cell_type": "markdown",
   "metadata": {
    "tags": []
   },
   "source": [
    "---\n",
    "# Comparison with Temel 2020\n",
    "[A unified solution for the vibration analysis of two-directional functionally graded axisymmetric Mindlin–Reissner plates with variable thickness](https://www.sciencedirect.com/science/article/abs/pii/S0020740319329364)\n",
    "\n",
    "$$\\Omega = \\sqrt{ \\dfrac{ \\rho h r^4}{D} \\omega^2 }\n",
    "= \\omega \\sqrt{\\dfrac{ \\rho h}{D}} r^2$$\n",
    "\n",
    "Temel et al. say that $D = \\dfrac{E h^3}{12(1-\\color{red}\\nu)}$ but it's a typo (the discrepancy is bigger without the ²)."
   ]
  },
  {
   "cell_type": "code",
   "execution_count": 15,
   "metadata": {},
   "outputs": [
    {
     "name": "stdout",
     "output_type": "stream",
     "text": [
      " 4.6963\n",
      "23.2541\n",
      "46.7745\n",
      "71.6032\n",
      "96.6090\n",
      "108.2739\n",
      "121.4989\n",
      "131.6496\n",
      "146.1721\n",
      "163.3039\n",
      "170.6466\n",
      "194.9427\n",
      "198.9838\n",
      "202.3659\n",
      "219.1061\n"
     ]
    }
   ],
   "source": [
    "Ω_Temel = np.sqrt(rho*h*R**4/D * real_ω2) # Same as Lee.\n",
    "Ω_Temel.sort()\n",
    "for i in range(15):\n",
    "    print(f\"{Ω_Temel[i]:7.4f}\")"
   ]
  },
  {
   "cell_type": "markdown",
   "metadata": {},
   "source": [
    "Reminder of Lee's results:\n",
    "```python\n",
    "## C\n",
    "# δ = 0.001 Ω_Temel = 10.233 (Nz=35)\n",
    "# δ = 0.005 Ω_Temel = 10.215 (Nz=35)\n",
    "# δ = 0.15  Ω_Temel =  9.6286 (Nz=35)\n",
    "# δ = 0.25  Ω_Temel =  8.8068 (Nz=35 and Nz=65)\n",
    "## S\n",
    "# δ = 0.001 Ω_Temel = 4.5387 (Nz=35) or 3.0323 (Nz=65)\n",
    "# δ = 0.005 Ω_Temel = 4.9353 (Nz=35) or 4.9350 (Nz=65)\n",
    "# δ = 0.15  Ω_Temel = 4.8439 (Nz=35)\n",
    "# δ = 0.25  Ω_Temel = 4.6963 (Nz=35)\n",
    "```"
   ]
  },
  {
   "cell_type": "markdown",
   "metadata": {},
   "source": [
    "**Remarks**\n",
    "* My code agrees with Lee2004 in every case (δ=0.05, δ=0.01, δ=0.1, δ=0.25).\n",
    "* [Temel2020](https://www.sciencedirect.com/science/article/abs/pii/S0020740319329364) probably meant δ = 0.005 instead of δ = 0.001 in their Table 2.\n",
    "* I am bothered by the convergence problem with Nz for Simple Support when δ = 0.001."
   ]
  },
  {
   "cell_type": "markdown",
   "metadata": {},
   "source": [
    "---\n",
    "# Comparison with Narita 2002 (Table 2)\n",
    "[Vibration Analysis of Shear-deformable Circular and Elliptical Laminated Composite Plates](https://www.jstage.jst.go.jp/article/jsmec/45/1/45_1_113/_article/-char/ja/)\n",
    "\n",
    "They define $a = R/2$ so I use $\\Omega = \\lambda_i^2 = \\omega_i (\\color{red}2R)^2 \\sqrt{\\dfrac{\\rho h}{D}}$.\n",
    "Also they say κ=5/6 so in my code I have to write `kappa=np.sqrt(5/6)`\n",
    "* Clamped at `a/h = 10`: I retrieved their modes `(n=0,s=0)` at Ω=λ²=39.5 (they get 37) and `(n=0,s=1)` (I get 144.1 instead of their 120.8). I don't see any of the others: `(1,0)`, `(2,0)`, `(3,0)`.\n",
    "* Clamped at `a/h = 100`: for `(n=0,s=1)` I get 158.9 instead of their 158.5. Clearly I only found the axisymmetric modes where `n=0`."
   ]
  },
  {
   "cell_type": "code",
   "execution_count": 16,
   "metadata": {},
   "outputs": [
    {
     "data": {
      "text/plain": [
       "array([1.87853279e+01, 9.30165088e+01, 1.87098050e+02, 2.86412995e+02,\n",
       "       3.86435909e+02, 4.33095602e+02, 4.85995405e+02, 5.26598309e+02,\n",
       "       5.84688425e+02, 6.53215625e+02, 6.82586366e+02, 7.79770661e+02,\n",
       "       7.95935003e+02, 8.09463688e+02, 8.76424472e+02, 9.47667157e+02,\n",
       "       9.72605765e+02, 1.06839782e+03, 1.10511000e+03, 1.16388558e+03,\n",
       "       1.25910725e+03, 1.26637969e+03, 1.35412612e+03, 1.43032711e+03,\n",
       "       1.44896434e+03, 1.54369802e+03, 1.59623589e+03, 1.63873574e+03,\n",
       "       1.73578034e+03, 1.76359868e+03, 1.83889592e+03, 1.93200049e+03,\n",
       "       1.95289886e+03, 2.08327619e+03, 2.10148828e+03, 2.23430789e+03,\n",
       "       2.27171776e+03, 2.41968998e+03, 2.44220015e+03, 2.61234537e+03,\n",
       "       2.64327246e+03, 2.78440261e+03, 2.93631536e+03, 2.95445531e+03,\n",
       "       3.12909991e+03, 3.27986159e+03, 3.30563482e+03, 3.80018949e+03,\n",
       "       4.48687953e+03, 5.51110101e+03, 7.17510415e+03, 1.03244735e+04,\n",
       "       1.85988522e+04, 8.01464135e+04,            inf])"
      ]
     },
     "execution_count": 16,
     "metadata": {},
     "output_type": "execute_result"
    }
   ],
   "source": [
    "# Narita 2002\n",
    "ω*(2*R)**2*np.sqrt(rho*h/D)"
   ]
  },
  {
   "cell_type": "markdown",
   "metadata": {},
   "source": [
    "---\n",
    "# Comparison with Wang 1994 (Table 3)\n",
    "[Natural Frequencies Formula for Simply Supported Mindlin Plates](https://asmedigitalcollection.asme.org/vibrationacoustics/article-abstract/116/4/536/441527/Natural-Frequencies-Formula-for-Simply-Supported)\n",
    "\n",
    "Typo in the caption: $(\\omega_M b^{\\color{red}2}) \\sqrt{\\rho h/D}$\n",
    "* I only retrieved their modes 1, 6 and 12."
   ]
  }
 ],
 "metadata": {
  "kernelspec": {
   "display_name": "Python 3 (ipykernel)",
   "language": "python",
   "name": "python3"
  },
  "language_info": {
   "codemirror_mode": {
    "name": "ipython",
    "version": 3
   },
   "file_extension": ".py",
   "mimetype": "text/x-python",
   "name": "python",
   "nbconvert_exporter": "python",
   "pygments_lexer": "ipython3",
   "version": "3.8.5"
  }
 },
 "nbformat": 4,
 "nbformat_minor": 4
}
